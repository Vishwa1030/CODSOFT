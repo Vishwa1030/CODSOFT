{
  "nbformat": 4,
  "nbformat_minor": 0,
  "metadata": {
    "colab": {
      "provenance": [],
      "authorship_tag": "ABX9TyPhvVFs8rntlbsORmA2Jm6s",
      "include_colab_link": true
    },
    "kernelspec": {
      "name": "python3",
      "display_name": "Python 3"
    },
    "language_info": {
      "name": "python"
    }
  },
  "cells": [
    {
      "cell_type": "markdown",
      "metadata": {
        "id": "view-in-github",
        "colab_type": "text"
      },
      "source": [
        "<a href=\"https://colab.research.google.com/github/Vishwa1030/CODSOFT/blob/main/Task5.ipynb\" target=\"_parent\"><img src=\"https://colab.research.google.com/assets/colab-badge.svg\" alt=\"Open In Colab\"/></a>"
      ]
    },
    {
      "cell_type": "markdown",
      "source": [
        "### **Importing Libraries**"
      ],
      "metadata": {
        "id": "uCxihy51-yig"
      }
    },
    {
      "cell_type": "code",
      "source": [
        "import pandas as pd\n",
        "from sklearn.model_selection import train_test_split\n",
        "from sklearn.ensemble import RandomForestClassifier\n",
        "from imblearn.over_sampling import SMOTE\n",
        "from sklearn.metrics import classification_report, confusion_matrix"
      ],
      "metadata": {
        "id": "HbzkzTppjEdg"
      },
      "execution_count": null,
      "outputs": []
    },
    {
      "cell_type": "markdown",
      "source": [
        "### **Load the Dataset with Error Handling**"
      ],
      "metadata": {
        "id": "JlzR7nujjgNb"
      }
    },
    {
      "cell_type": "code",
      "source": [
        "try:\n",
        "    card = pd.read_csv('/content/task5.csv', error_bad_lines=False)\n",
        "except pd.errors.ParserError as e:\n",
        "    print(f\"Error loading the dataset: {e}\")"
      ],
      "metadata": {
        "colab": {
          "base_uri": "https://localhost:8080/"
        },
        "id": "DmEdOzxmxiWU",
        "outputId": "2f983335-b9b5-4985-d226-be284eb30376"
      },
      "execution_count": null,
      "outputs": [
        {
          "output_type": "stream",
          "name": "stderr",
          "text": [
            "<ipython-input-58-82cae6a23284>:2: FutureWarning: The error_bad_lines argument has been deprecated and will be removed in a future version. Use on_bad_lines in the future.\n",
            "\n",
            "\n",
            "  card = pd.read_csv('/content/task5.csv', error_bad_lines=False)\n",
            "Skipping line 3986: expected 31 fields, saw 32\n",
            "Skipping line 5973: expected 31 fields, saw 39\n",
            "Skipping line 9966: expected 31 fields, saw 46\n",
            "Skipping line 11960: expected 31 fields, saw 33\n",
            "Skipping line 15954: expected 31 fields, saw 45\n",
            "Skipping line 19928: expected 31 fields, saw 52\n",
            "Skipping line 25899: expected 31 fields, saw 55\n",
            "Skipping line 29861: expected 31 fields, saw 44\n",
            "Skipping line 31841: expected 31 fields, saw 36\n",
            "\n",
            "Skipping line 35803: expected 31 fields, saw 48\n",
            "Skipping line 41743: expected 31 fields, saw 57\n",
            "Skipping line 45704: expected 31 fields, saw 52\n",
            "Skipping line 51645: expected 31 fields, saw 35\n",
            "Skipping line 55606: expected 31 fields, saw 53\n",
            "Skipping line 61549: expected 31 fields, saw 32\n",
            "Skipping line 65509: expected 31 fields, saw 47\n",
            "\n",
            "Skipping line 73432: expected 31 fields, saw 35\n",
            "Skipping line 75413: expected 31 fields, saw 51\n",
            "Skipping line 83338: expected 31 fields, saw 45\n",
            "Skipping line 85319: expected 31 fields, saw 41\n",
            "Skipping line 89283: expected 31 fields, saw 33\n",
            "Skipping line 91264: expected 31 fields, saw 36\n",
            "Skipping line 93246: expected 31 fields, saw 37\n",
            "Skipping line 95226: expected 31 fields, saw 37\n",
            "\n",
            "Skipping line 99188: expected 31 fields, saw 42\n",
            "Skipping line 105129: expected 31 fields, saw 49\n",
            "Skipping line 111069: expected 31 fields, saw 45\n",
            "Skipping line 115030: expected 31 fields, saw 36\n",
            "Skipping line 117010: expected 31 fields, saw 37\n",
            "Skipping line 120971: expected 31 fields, saw 49\n",
            "Skipping line 126914: expected 31 fields, saw 35\n",
            "Skipping line 130876: expected 31 fields, saw 47\n",
            "\n",
            "Skipping line 134838: expected 31 fields, saw 36\n",
            "Skipping line 138799: expected 31 fields, saw 44\n",
            "Skipping line 144742: expected 31 fields, saw 43\n",
            "Skipping line 148702: expected 31 fields, saw 47\n",
            "Skipping line 152664: expected 31 fields, saw 39\n",
            "Skipping line 156624: expected 31 fields, saw 32\n",
            "Skipping line 158604: expected 31 fields, saw 47\n",
            "\n",
            "Skipping line 164546: expected 31 fields, saw 36\n",
            "Skipping line 168506: expected 31 fields, saw 49\n",
            "Skipping line 174448: expected 31 fields, saw 39\n",
            "Skipping line 178409: expected 31 fields, saw 35\n",
            "Skipping line 180389: expected 31 fields, saw 33\n",
            "Skipping line 182369: expected 31 fields, saw 35\n",
            "Skipping line 186329: expected 31 fields, saw 39\n",
            "Skipping line 190294: expected 31 fields, saw 39\n",
            "Skipping line 194257: expected 31 fields, saw 37\n",
            "\n",
            "Skipping line 198215: expected 31 fields, saw 34\n",
            "Skipping line 202178: expected 31 fields, saw 38\n",
            "Skipping line 208119: expected 31 fields, saw 34\n",
            "Skipping line 212077: expected 31 fields, saw 35\n",
            "\n",
            "<ipython-input-58-82cae6a23284>:2: DtypeWarning: Columns (2,5,8,12,13,19,20) have mixed types. Specify dtype option on import or set low_memory=False.\n",
            "  card = pd.read_csv('/content/task5.csv', error_bad_lines=False)\n"
          ]
        }
      ]
    },
    {
      "cell_type": "markdown",
      "source": [
        "### **Display Basic Information About the Dataset**"
      ],
      "metadata": {
        "id": "sp4ENvawjt7-"
      }
    },
    {
      "cell_type": "code",
      "source": [
        "if 'card' in locals():\n",
        "    print(card.head())"
      ],
      "metadata": {
        "colab": {
          "base_uri": "https://localhost:8080/"
        },
        "id": "_rGniP0JjpFe",
        "outputId": "9cb99f8f-f48c-4681-ffad-006cfd00a612"
      },
      "execution_count": null,
      "outputs": [
        {
          "output_type": "stream",
          "name": "stdout",
          "text": [
            "   Time        V1        V2        V3        V4        V5        V6        V7  \\\n",
            "0     0 -1.359807 -0.072781  2.536347  1.378155 -0.338321  0.462388  0.239599   \n",
            "1     0  1.191857  0.266151  0.166480  0.448154  0.060018 -0.082361 -0.078803   \n",
            "2     1 -1.358354 -1.340163  1.773209  0.379780 -0.503198  1.800499  0.791461   \n",
            "3     1 -0.966272 -0.185226  1.792993 -0.863291 -0.010309  1.247203  0.237609   \n",
            "4     2 -1.158233  0.877737  1.548718  0.403034 -0.407193  0.095921  0.592941   \n",
            "\n",
            "         V8        V9  ...       V21       V22       V23       V24       V25  \\\n",
            "0  0.098698  0.363787  ... -0.018307  0.277838 -0.110474  0.066928  0.128539   \n",
            "1  0.085102 -0.255425  ... -0.225775 -0.638672  0.101288 -0.339846  0.167170   \n",
            "2  0.247676 -1.514654  ...  0.247998  0.771679  0.909412 -0.689281 -0.327642   \n",
            "3  0.377436 -1.387024  ... -0.108300  0.005274 -0.190321 -1.175575  0.647376   \n",
            "4 -0.270533  0.817739  ... -0.009431  0.798278 -0.137458  0.141267 -0.206010   \n",
            "\n",
            "        V26       V27       V28  Amount Class  \n",
            "0 -0.189115  0.133558 -0.021053  149.62   0.0  \n",
            "1  0.125895 -0.008983  0.014724    2.69   0.0  \n",
            "2 -0.139097 -0.055353 -0.059752  378.66   0.0  \n",
            "3 -0.221929  0.062723  0.061458  123.50   0.0  \n",
            "4  0.502292  0.219422  0.215153   69.99   0.0  \n",
            "\n",
            "[5 rows x 31 columns]\n"
          ]
        }
      ]
    },
    {
      "cell_type": "code",
      "source": [
        "print(card.tail())\n",
        "\n"
      ],
      "metadata": {
        "colab": {
          "base_uri": "https://localhost:8080/"
        },
        "id": "FvTJUzmAyfOh",
        "outputId": "a5273967-28aa-4622-c119-f9b513bedcf8"
      },
      "execution_count": null,
      "outputs": [
        {
          "output_type": "stream",
          "name": "stdout",
          "text": [
            "         Time        V1         V2        V3        V4        V5        V6  \\\n",
            "219935  72054 -6.874321 -14.465573 -3.710753  2.851992  -5.46947  2.136148   \n",
            "219936  72055 -0.448999   1.111371  1.804705  0.086673 -0.265863 -1.191283   \n",
            "219937  72055  1.279970  -0.266108 -0.992069 -0.285321  1.883019  3.657542   \n",
            "219938  72056  1.158484  -0.276407  0.905650  0.569206 -0.630426  0.500582   \n",
            "219939  72056 -3.250378   0.921773 -0.437717  1.811642 -1.653459 -0.012359   \n",
            "\n",
            "              V7        V8        V9  ...       V21       V22       V23  \\\n",
            "219935  4.219244 -0.674539 -0.432859  ...  2.603583 -1.969197 -3.723388   \n",
            "219936  0.754909 -0.137683 -0.531648  ... -0.186041 -0.442222  0.032735   \n",
            "219937 -0.715670  0.900671  0.496412  ... -0.142442 -0.316956 -0.123535   \n",
            "219938 -0.700022  0.251259  0.685184  ... -0.079239 -0.097547 -0.104328   \n",
            "219939  0.172516  1.173874 -0.627729  ... -0.003001  0.323680       NaN   \n",
            "\n",
            "             V24       V25       V26       V27       V28   Amount Class  \n",
            "219935 -0.098561 -1.262768 -0.657391 -0.738331  0.740556  4229.51   0.0  \n",
            "219936  0.917011 -0.243231  0.036023  0.270795  0.127756     1.29   0.0  \n",
            "219937  1.063070  0.742956  0.453687 -0.014068  0.004009     6.99   0.0  \n",
            "219938 -0.452818  0.336093  0.347818  0.010075  0.012670    28.75   0.0  \n",
            "219939       NaN       NaN       NaN       NaN       NaN      NaN   NaN  \n",
            "\n",
            "[5 rows x 31 columns]\n"
          ]
        }
      ]
    },
    {
      "cell_type": "code",
      "source": [
        "if 'card' in locals():\n",
        "    print(card.describe().head())"
      ],
      "metadata": {
        "colab": {
          "base_uri": "https://localhost:8080/"
        },
        "id": "0oaVAP4ex91T",
        "outputId": "cd2b29cb-d724-4a31-9095-87fe65ddeb54"
      },
      "execution_count": null,
      "outputs": [
        {
          "output_type": "stream",
          "name": "stdout",
          "text": [
            "                Time             V1             V3             V4  \\\n",
            "count  219940.000000  219940.000000  219939.000000  219939.000000   \n",
            "mean    46779.725630      -0.255088       0.676631       0.157163   \n",
            "std     17128.290793       1.856650       1.310736       1.335818   \n",
            "min         0.000000     -56.407510     -33.680984      -5.172595   \n",
            "25%     35949.000000      -1.022266       0.173819      -0.705474   \n",
            "\n",
            "                  V6             V7             V9            V10  \\\n",
            "count  219938.000000  219936.000000  219935.000000  219933.000000   \n",
            "mean        0.091601      -0.118909      -0.078046       5.895461   \n",
            "std         1.294654       1.203230       1.103487    2767.908506   \n",
            "min       -26.160506     -31.764946      -9.283925     -18.271168   \n",
            "25%        -0.648955      -0.606053      -0.711691      -0.482786   \n",
            "\n",
            "                 V11            V14  ...            V21            V22  \\\n",
            "count  219932.000000  219929.000000  ...  219918.000000  219917.000000   \n",
            "mean        0.224810       5.936458  ...      -0.031890      -0.106126   \n",
            "std         1.058250    2767.035167  ...       0.812895       0.961122   \n",
            "min        -4.049895     -19.214325  ...     -34.830382     -10.933144   \n",
            "25%        -0.541167      -0.346167  ...      -0.223690      -0.535939   \n",
            "\n",
            "                V23            V24            V25            V26  \\\n",
            "count  2.199130e+05  219910.000000  219906.000000  219904.000000   \n",
            "mean  -2.250250e+02       0.011317       0.136759       0.075042   \n",
            "std    1.055096e+05       0.677143       0.842395      21.389313   \n",
            "min   -4.947862e+07      -2.836627     -10.295397      -2.534330   \n",
            "25%   -1.753947e-01      -0.323149      -0.130818      -0.322024   \n",
            "\n",
            "                 V27            V28         Amount          Class  \n",
            "count  219896.000000  219889.000000  219888.000000  219885.000000  \n",
            "mean        0.000580       0.002965      96.198159       0.002174  \n",
            "std         0.391899       0.472311     259.959375       0.046574  \n",
            "min        -9.390980      -9.617915       0.000000       0.000000  \n",
            "25%        -0.061357      -0.004569       7.000000       0.000000  \n",
            "\n",
            "[5 rows x 24 columns]\n"
          ]
        }
      ]
    },
    {
      "cell_type": "code",
      "source": [
        "print(card.describe().tail())\n"
      ],
      "metadata": {
        "colab": {
          "base_uri": "https://localhost:8080/"
        },
        "id": "ccVdimuWyavf",
        "outputId": "84cfc00d-2a37-4639-feba-f584be2e34ab"
      },
      "execution_count": null,
      "outputs": [
        {
          "output_type": "stream",
          "name": "stdout",
          "text": [
            "         Time         V1         V3         V4         V6         V7  \\\n",
            "min       0.0 -56.407510 -33.680984  -5.172595 -26.160506 -31.764946   \n",
            "25%   35949.0  -1.022266   0.173819  -0.705474  -0.648955  -0.606053   \n",
            "50%   48178.0  -0.251307   0.752611   0.183779  -0.159533  -0.072020   \n",
            "75%   60789.0   1.156064   1.375731   1.016126   0.483804   0.406016   \n",
            "max  348443.0  26.980000   8.990000  16.715537  22.529298  36.677268   \n",
            "\n",
            "            V9           V10        V11           V14  ...         V21  \\\n",
            "min  -9.283925 -1.827117e+01  -4.049895 -1.921433e+01  ...  -34.830382   \n",
            "25%  -0.711691 -4.827863e-01  -0.541167 -3.461672e-01  ...   -0.223690   \n",
            "50%  -0.141617 -9.163743e-02   0.145656  6.323612e-02  ...   -0.056341   \n",
            "75%   0.508243  4.419922e-01   1.043371  4.672778e-01  ...    0.120745   \n",
            "max  29.810000  1.298065e+06  12.018913  1.297645e+06  ...  155.150000   \n",
            "\n",
            "            V22           V23         V24         V25           V26  \\\n",
            "min  -10.933144 -4.947862e+07   -2.836627  -10.295397     -2.534330   \n",
            "25%   -0.535939 -1.753947e-01   -0.323149   -0.130818     -0.322024   \n",
            "50%   -0.084891 -4.868021e-02    0.066467    0.171939     -0.066320   \n",
            "75%    0.311374  8.102003e-02    0.407330    0.422113      0.295381   \n",
            "max  258.830000  5.078600e+02  151.710000  231.480000  10026.000000   \n",
            "\n",
            "           V27         V28     Amount  Class  \n",
            "min  -9.390980   -9.617915      0.000    0.0  \n",
            "25%  -0.061357   -0.004569      7.000    0.0  \n",
            "50%   0.010523    0.023498     25.085    0.0  \n",
            "75%   0.083696    0.076902     87.000    0.0  \n",
            "max  12.152401  151.710000  19656.530    1.0  \n",
            "\n",
            "[5 rows x 24 columns]\n"
          ]
        }
      ]
    },
    {
      "cell_type": "markdown",
      "source": [
        "### **Preprocess Data - Handling Missing Values**"
      ],
      "metadata": {
        "id": "Uayfb_oesp_W"
      }
    },
    {
      "cell_type": "code",
      "source": [
        "X = card.drop('Class', axis=1)\n",
        "y = card['Class']"
      ],
      "metadata": {
        "id": "p0HlG1ozj0MK"
      },
      "execution_count": null,
      "outputs": []
    },
    {
      "cell_type": "code",
      "source": [
        "missing_target_indices = y[y.isna()].index\n",
        "X = X.drop(missing_target_indices)\n",
        "y = y.dropna()"
      ],
      "metadata": {
        "id": "QDPLeSWtsxcS"
      },
      "execution_count": null,
      "outputs": []
    },
    {
      "cell_type": "markdown",
      "source": [
        "### **Split the Data into Training and Testing Sets**"
      ],
      "metadata": {
        "id": "3cHC10ertKy5"
      }
    },
    {
      "cell_type": "code",
      "source": [
        "X_train, X_test, y_train, y_test = train_test_split(X, y, test_size=0.2, random_state=42, stratify=y)"
      ],
      "metadata": {
        "id": "VE9zbegTtGaE"
      },
      "execution_count": null,
      "outputs": []
    },
    {
      "cell_type": "markdown",
      "source": [
        "### **Handle Class Imbalance Using SMOTE for Oversampling**"
      ],
      "metadata": {
        "id": "T9p4WeS_tVO6"
      }
    },
    {
      "cell_type": "code",
      "source": [
        "oversample = SMOTE(sampling_strategy=0.5, random_state=42)\n",
        "X_train_resampled, y_train_resampled = oversample.fit_resample(X_train, y_train)"
      ],
      "metadata": {
        "id": "apXP-q1otSZX"
      },
      "execution_count": null,
      "outputs": []
    },
    {
      "cell_type": "markdown",
      "source": [
        "### **Build a Random Forest Classifier**"
      ],
      "metadata": {
        "id": "wN1CJmV0tds0"
      }
    },
    {
      "cell_type": "code",
      "source": [
        "quick_model = RandomForestClassifier(n_estimators=10, random_state=42)\n",
        "quick_model.fit(X_train_resampled, y_train_resampled)"
      ],
      "metadata": {
        "colab": {
          "base_uri": "https://localhost:8080/",
          "height": 74
        },
        "id": "ceCSKuAivOn8",
        "outputId": "9aca5ea0-7a9c-4d01-9860-d9e8d0ace51e"
      },
      "execution_count": null,
      "outputs": [
        {
          "output_type": "execute_result",
          "data": {
            "text/plain": [
              "RandomForestClassifier(n_estimators=10, random_state=42)"
            ],
            "text/html": [
              "<style>#sk-container-id-1 {color: black;background-color: white;}#sk-container-id-1 pre{padding: 0;}#sk-container-id-1 div.sk-toggleable {background-color: white;}#sk-container-id-1 label.sk-toggleable__label {cursor: pointer;display: block;width: 100%;margin-bottom: 0;padding: 0.3em;box-sizing: border-box;text-align: center;}#sk-container-id-1 label.sk-toggleable__label-arrow:before {content: \"▸\";float: left;margin-right: 0.25em;color: #696969;}#sk-container-id-1 label.sk-toggleable__label-arrow:hover:before {color: black;}#sk-container-id-1 div.sk-estimator:hover label.sk-toggleable__label-arrow:before {color: black;}#sk-container-id-1 div.sk-toggleable__content {max-height: 0;max-width: 0;overflow: hidden;text-align: left;background-color: #f0f8ff;}#sk-container-id-1 div.sk-toggleable__content pre {margin: 0.2em;color: black;border-radius: 0.25em;background-color: #f0f8ff;}#sk-container-id-1 input.sk-toggleable__control:checked~div.sk-toggleable__content {max-height: 200px;max-width: 100%;overflow: auto;}#sk-container-id-1 input.sk-toggleable__control:checked~label.sk-toggleable__label-arrow:before {content: \"▾\";}#sk-container-id-1 div.sk-estimator input.sk-toggleable__control:checked~label.sk-toggleable__label {background-color: #d4ebff;}#sk-container-id-1 div.sk-label input.sk-toggleable__control:checked~label.sk-toggleable__label {background-color: #d4ebff;}#sk-container-id-1 input.sk-hidden--visually {border: 0;clip: rect(1px 1px 1px 1px);clip: rect(1px, 1px, 1px, 1px);height: 1px;margin: -1px;overflow: hidden;padding: 0;position: absolute;width: 1px;}#sk-container-id-1 div.sk-estimator {font-family: monospace;background-color: #f0f8ff;border: 1px dotted black;border-radius: 0.25em;box-sizing: border-box;margin-bottom: 0.5em;}#sk-container-id-1 div.sk-estimator:hover {background-color: #d4ebff;}#sk-container-id-1 div.sk-parallel-item::after {content: \"\";width: 100%;border-bottom: 1px solid gray;flex-grow: 1;}#sk-container-id-1 div.sk-label:hover label.sk-toggleable__label {background-color: #d4ebff;}#sk-container-id-1 div.sk-serial::before {content: \"\";position: absolute;border-left: 1px solid gray;box-sizing: border-box;top: 0;bottom: 0;left: 50%;z-index: 0;}#sk-container-id-1 div.sk-serial {display: flex;flex-direction: column;align-items: center;background-color: white;padding-right: 0.2em;padding-left: 0.2em;position: relative;}#sk-container-id-1 div.sk-item {position: relative;z-index: 1;}#sk-container-id-1 div.sk-parallel {display: flex;align-items: stretch;justify-content: center;background-color: white;position: relative;}#sk-container-id-1 div.sk-item::before, #sk-container-id-1 div.sk-parallel-item::before {content: \"\";position: absolute;border-left: 1px solid gray;box-sizing: border-box;top: 0;bottom: 0;left: 50%;z-index: -1;}#sk-container-id-1 div.sk-parallel-item {display: flex;flex-direction: column;z-index: 1;position: relative;background-color: white;}#sk-container-id-1 div.sk-parallel-item:first-child::after {align-self: flex-end;width: 50%;}#sk-container-id-1 div.sk-parallel-item:last-child::after {align-self: flex-start;width: 50%;}#sk-container-id-1 div.sk-parallel-item:only-child::after {width: 0;}#sk-container-id-1 div.sk-dashed-wrapped {border: 1px dashed gray;margin: 0 0.4em 0.5em 0.4em;box-sizing: border-box;padding-bottom: 0.4em;background-color: white;}#sk-container-id-1 div.sk-label label {font-family: monospace;font-weight: bold;display: inline-block;line-height: 1.2em;}#sk-container-id-1 div.sk-label-container {text-align: center;}#sk-container-id-1 div.sk-container {/* jupyter's `normalize.less` sets `[hidden] { display: none; }` but bootstrap.min.css set `[hidden] { display: none !important; }` so we also need the `!important` here to be able to override the default hidden behavior on the sphinx rendered scikit-learn.org. See: https://github.com/scikit-learn/scikit-learn/issues/21755 */display: inline-block !important;position: relative;}#sk-container-id-1 div.sk-text-repr-fallback {display: none;}</style><div id=\"sk-container-id-1\" class=\"sk-top-container\"><div class=\"sk-text-repr-fallback\"><pre>RandomForestClassifier(n_estimators=10, random_state=42)</pre><b>In a Jupyter environment, please rerun this cell to show the HTML representation or trust the notebook. <br />On GitHub, the HTML representation is unable to render, please try loading this page with nbviewer.org.</b></div><div class=\"sk-container\" hidden><div class=\"sk-item\"><div class=\"sk-estimator sk-toggleable\"><input class=\"sk-toggleable__control sk-hidden--visually\" id=\"sk-estimator-id-1\" type=\"checkbox\" checked><label for=\"sk-estimator-id-1\" class=\"sk-toggleable__label sk-toggleable__label-arrow\">RandomForestClassifier</label><div class=\"sk-toggleable__content\"><pre>RandomForestClassifier(n_estimators=10, random_state=42)</pre></div></div></div></div></div>"
            ]
          },
          "metadata": {},
          "execution_count": 34
        }
      ]
    },
    {
      "cell_type": "code",
      "source": [
        "print(\"Number of Trees:\", quick_model.n_estimators)\n",
        "print(\"Feature Importances:\", quick_model.feature_importances_)"
      ],
      "metadata": {
        "colab": {
          "base_uri": "https://localhost:8080/"
        },
        "id": "3bAIoFZewGon",
        "outputId": "680ee6ea-f23f-4ee7-e0d2-becdca064836"
      },
      "execution_count": null,
      "outputs": [
        {
          "output_type": "stream",
          "name": "stdout",
          "text": [
            "Number of Trees: 10\n",
            "Feature Importances: [0.00850427 0.00353899 0.05317885 0.00774197 0.02276217 0.0025884\n",
            " 0.00342762 0.00737928 0.00288137 0.00621836 0.12133174 0.00459685\n",
            " 0.08991817 0.00462256 0.44065789 0.00318258 0.01090302 0.16233261\n",
            " 0.00225816 0.00480176 0.00344703 0.00469241 0.00290026 0.00146743\n",
            " 0.00357361 0.0029353  0.00376119 0.00239014 0.0051338  0.0068722 ]\n"
          ]
        }
      ]
    },
    {
      "cell_type": "markdown",
      "source": [
        "### **Make Predictions on the Test Set**"
      ],
      "metadata": {
        "id": "wE7nQi_TwWfN"
      }
    },
    {
      "cell_type": "code",
      "source": [
        "y_pred = quick_model.predict(X_test)"
      ],
      "metadata": {
        "id": "jDaJa_WqwOTR"
      },
      "execution_count": null,
      "outputs": []
    },
    {
      "cell_type": "markdown",
      "source": [
        "### **Evaluate the Model python**"
      ],
      "metadata": {
        "id": "dFH0JmcawvbN"
      }
    },
    {
      "cell_type": "code",
      "source": [
        "print(\"Classification Report:\")\n",
        "print(classification_report(y_test, y_pred))"
      ],
      "metadata": {
        "colab": {
          "base_uri": "https://localhost:8080/"
        },
        "id": "oDxFiEbZwhgt",
        "outputId": "c16f3a15-0871-409f-ac6a-9d6f46c454c9"
      },
      "execution_count": null,
      "outputs": [
        {
          "output_type": "stream",
          "name": "stdout",
          "text": [
            "Classification Report:\n",
            "              precision    recall  f1-score   support\n",
            "\n",
            "         0.0       1.00      1.00      1.00     43881\n",
            "         1.0       1.00      0.95      0.97        96\n",
            "\n",
            "    accuracy                           1.00     43977\n",
            "   macro avg       1.00      0.97      0.99     43977\n",
            "weighted avg       1.00      1.00      1.00     43977\n",
            "\n"
          ]
        }
      ]
    },
    {
      "cell_type": "code",
      "source": [
        "print(\"\\nConfusion Matrix\")\n",
        "print(confusion_matrix(y_test, y_pred))"
      ],
      "metadata": {
        "colab": {
          "base_uri": "https://localhost:8080/"
        },
        "id": "2J25FeSaxAJ1",
        "outputId": "ed89f902-a534-4799-fdd0-831d50b71e5b"
      },
      "execution_count": null,
      "outputs": [
        {
          "output_type": "stream",
          "name": "stdout",
          "text": [
            "\n",
            "Confusion Matrix\n",
            "[[43881     0]\n",
            " [    5    91]]\n"
          ]
        }
      ]
    }
  ]
}